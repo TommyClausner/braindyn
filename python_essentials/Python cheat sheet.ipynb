{
 "cells": [
  {
   "cell_type": "markdown",
   "metadata": {},
   "source": [
    "# This is a Jupyter notebook.\n",
    "\n",
    "Jupyter notebooks can be used to interactively run Python commands. It becomes very handy if you want to track or structure your pipelines.\n",
    "\n",
    "Install it using:\n",
    "\n",
    "`pip install jupyter`\n",
    "\n",
    "The language for this kind of comments is markdown.\n",
    "\n",
    "If you want to run jupyter, type:\n",
    "\n",
    "`jupyter notebook`\n",
    "\n",
    "into your shell terminal."
   ]
  },
  {
   "cell_type": "markdown",
   "metadata": {},
   "source": [
    "# Python essentials\n",
    "\n",
    "All details about using the Python language can be found here:\n",
    "\n",
    "https://docs.python.org/3/contents.html\n",
    "\n",
    "Please note that this cheat sheet uses Python 3 notation. There are some subtle differences to Python 2, but since Python 2 will not be supported anymore from 2020 on, switching to Python 3 might be a good idea anyway.\n",
    "\n",
    "## Mathematical operations\n",
    "Addition / Subtraction / Multiplication / Division / Power / square root / modulo\n",
    "\n",
    "Below you can find the mathematical operators commonly used in Python. The four \"common\" operators are similar to what are you used to from MatLab. Only raising a value to a power uses \\*\\* instead of ^ In native Python you further don't have a square root operator. Instead raise the value to the power of 1/2. The modulo operator (%) returns the remaining value similar to MatLab's 'mod' function.\n",
    "\n",
    "It is also possible to use the \"math\" package (`import math`) to e.g. use the math.sqrt() function."
   ]
  },
  {
   "cell_type": "code",
   "execution_count": 1,
   "metadata": {},
   "outputs": [
    {
     "data": {
      "text/plain": [
       "42"
      ]
     },
     "execution_count": 1,
     "metadata": {},
     "output_type": "execute_result"
    }
   ],
   "source": [
    "40 + 2"
   ]
  },
  {
   "cell_type": "code",
   "execution_count": 2,
   "metadata": {},
   "outputs": [
    {
     "data": {
      "text/plain": [
       "42"
      ]
     },
     "execution_count": 2,
     "metadata": {},
     "output_type": "execute_result"
    }
   ],
   "source": [
    "142 - 100"
   ]
  },
  {
   "cell_type": "code",
   "execution_count": 3,
   "metadata": {},
   "outputs": [
    {
     "data": {
      "text/plain": [
       "42"
      ]
     },
     "execution_count": 3,
     "metadata": {},
     "output_type": "execute_result"
    }
   ],
   "source": [
    "6 * 7"
   ]
  },
  {
   "cell_type": "code",
   "execution_count": 4,
   "metadata": {},
   "outputs": [
    {
     "data": {
      "text/plain": [
       "42.0"
      ]
     },
     "execution_count": 4,
     "metadata": {},
     "output_type": "execute_result"
    }
   ],
   "source": [
    "84 / 2"
   ]
  },
  {
   "cell_type": "code",
   "execution_count": 5,
   "metadata": {},
   "outputs": [
    {
     "data": {
      "text/plain": [
       "1764"
      ]
     },
     "execution_count": 5,
     "metadata": {},
     "output_type": "execute_result"
    }
   ],
   "source": [
    "42**2"
   ]
  },
  {
   "cell_type": "code",
   "execution_count": 6,
   "metadata": {},
   "outputs": [
    {
     "data": {
      "text/plain": [
       "42.0"
      ]
     },
     "execution_count": 6,
     "metadata": {},
     "output_type": "execute_result"
    }
   ],
   "source": [
    "1764**.5 # yes, you don't have to write the zero"
   ]
  },
  {
   "cell_type": "code",
   "execution_count": 7,
   "metadata": {},
   "outputs": [
    {
     "data": {
      "text/plain": [
       "5"
      ]
     },
     "execution_count": 7,
     "metadata": {},
     "output_type": "execute_result"
    }
   ],
   "source": [
    "26 % 7"
   ]
  },
  {
   "cell_type": "markdown",
   "metadata": {},
   "source": [
    "## outputting results\n",
    "\n",
    "Printing an output to the command line is done by using `print()`, which is similar to MatLab's `disp()` function. Note, that Python does not use an end-of-line statement, such as `;` in MatLab and thus natively does not print any output to the command line, if not indicated by the `print` statement. "
   ]
  },
  {
   "cell_type": "code",
   "execution_count": 8,
   "metadata": {},
   "outputs": [
    {
     "name": "stdout",
     "output_type": "stream",
     "text": [
      "things I want to display\n"
     ]
    }
   ],
   "source": [
    "print(\"things I want to display\")"
   ]
  },
  {
   "cell_type": "markdown",
   "metadata": {},
   "source": [
    "## assigning and using simple variables"
   ]
  },
  {
   "cell_type": "code",
   "execution_count": 9,
   "metadata": {},
   "outputs": [
    {
     "name": "stdout",
     "output_type": "stream",
     "text": [
      "5\n"
     ]
    }
   ],
   "source": [
    "a = 5\n",
    "print(a)"
   ]
  },
  {
   "cell_type": "code",
   "execution_count": 10,
   "metadata": {},
   "outputs": [
    {
     "name": "stdout",
     "output_type": "stream",
     "text": [
      "6\n"
     ]
    }
   ],
   "source": [
    "a = a + 1\n",
    "print(a)"
   ]
  },
  {
   "cell_type": "markdown",
   "metadata": {},
   "source": [
    "### really handy\n",
    "\n",
    "In Python you can use the \\< operator \\> = \\< value \\> notation to calculate and re-assign values. This becomes handy when e.g. using counters in loops etc."
   ]
  },
  {
   "cell_type": "code",
   "execution_count": 11,
   "metadata": {},
   "outputs": [
    {
     "name": "stdout",
     "output_type": "stream",
     "text": [
      "42\n",
      "42.0\n"
     ]
    }
   ],
   "source": [
    "a = 41\n",
    "a += 1 # add and (re-) assign variable in one go\n",
    "\n",
    "print(a)\n",
    "\n",
    "a = 1764\n",
    "a **=.5\n",
    "\n",
    "print(a)"
   ]
  },
  {
   "cell_type": "markdown",
   "metadata": {},
   "source": [
    "## variable types\n",
    "\n",
    "You will come across many functions in Python that either require `int` (integer) or `float` (float) operators. Integers are much more efficient in terms of memory, but of course restricted to whole numbers. In general it's a good idea to use `int` whenever possible. Further there exist `string` (character strings), `bool` (boolean values, either `True` or `False`) and the special type `None`."
   ]
  },
  {
   "cell_type": "code",
   "execution_count": 12,
   "metadata": {},
   "outputs": [
    {
     "name": "stdout",
     "output_type": "stream",
     "text": [
      "42\n",
      "42.0\n",
      "42 42.0\n"
     ]
    }
   ],
   "source": [
    "print(42) # integer\n",
    "print(42.) # float - again you don't have to write the zero\n",
    "\n",
    "my_integer = int(42)\n",
    "my_float = float(42)\n",
    "\n",
    "print(my_integer, my_float)"
   ]
  },
  {
   "cell_type": "code",
   "execution_count": 13,
   "metadata": {},
   "outputs": [
    {
     "name": "stdout",
     "output_type": "stream",
     "text": [
      "my string\n",
      "42\n",
      "True None\n"
     ]
    }
   ],
   "source": [
    "my_string = 'my string'\n",
    "\n",
    "print(my_string)\n",
    "print(str(42))\n",
    "\n",
    "my_boolean = True\n",
    "my_NoneType = None\n",
    "\n",
    "print(my_boolean, my_NoneType)"
   ]
  },
  {
   "cell_type": "markdown",
   "metadata": {},
   "source": [
    "## concatenate output"
   ]
  },
  {
   "cell_type": "code",
   "execution_count": 14,
   "metadata": {},
   "outputs": [
    {
     "name": "stdout",
     "output_type": "stream",
     "text": [
      "I can combine this string with the number 42 by converting the number into a string first.\n"
     ]
    }
   ],
   "source": [
    "my_integer = 42\n",
    "print(\"I can combine this string with the number \" + str(my_integer) + \n",
    "      \" by converting the number into a string first.\")"
   ]
  },
  {
   "cell_type": "markdown",
   "metadata": {},
   "source": [
    "## representing data\n",
    "\n",
    "Note that Python (similar to far most of all programming languages) uses indexing starting from 0. Hence the first value in every assembly of values can be accessed with the value 0\n",
    "\n",
    "### tuple\n",
    "Tuple can hold different data types and cannot be changed once assigned. However this behavior makes them very fast as compared to lists (below). Creating a tuple is indicated using normal parentheses `tuple = (val1, val2, etc)`. You can access values within a tuple using square brackets \\[ index \\]"
   ]
  },
  {
   "cell_type": "code",
   "execution_count": 15,
   "metadata": {},
   "outputs": [
    {
     "name": "stdout",
     "output_type": "stream",
     "text": [
      "(4, 2)\n",
      "4\n"
     ]
    }
   ],
   "source": [
    "a = (4, 2)\n",
    "print(a)\n",
    "\n",
    "print(a[0])"
   ]
  },
  {
   "cell_type": "markdown",
   "metadata": {},
   "source": [
    "Since tuple can hold multiple datatypes you can store e.g. an integer and a string within the same tuple."
   ]
  },
  {
   "cell_type": "code",
   "execution_count": 16,
   "metadata": {},
   "outputs": [
    {
     "name": "stdout",
     "output_type": "stream",
     "text": [
      "(1990, 'Tommy')\n"
     ]
    }
   ],
   "source": [
    "year_name = (1990, \"Tommy\")\n",
    "print(year_name)"
   ]
  },
  {
   "cell_type": "markdown",
   "metadata": {},
   "source": [
    "Since tuples can not be changed after initialization, a re-assignment of values within a tuple is not possible."
   ]
  },
  {
   "cell_type": "code",
   "execution_count": 17,
   "metadata": {},
   "outputs": [
    {
     "data": {
      "text/plain": [
       "1991"
      ]
     },
     "execution_count": 17,
     "metadata": {},
     "output_type": "execute_result"
    }
   ],
   "source": [
    "year_name[0] + 1 # this works"
   ]
  },
  {
   "cell_type": "code",
   "execution_count": 18,
   "metadata": {},
   "outputs": [
    {
     "ename": "TypeError",
     "evalue": "'tuple' object does not support item assignment",
     "output_type": "error",
     "traceback": [
      "\u001b[0;31m---------------------------------------------------------------------------\u001b[0m",
      "\u001b[0;31mTypeError\u001b[0m                                 Traceback (most recent call last)",
      "\u001b[0;32m<ipython-input-18-04b95c6e3f1d>\u001b[0m in \u001b[0;36m<module>\u001b[0;34m\u001b[0m\n\u001b[0;32m----> 1\u001b[0;31m \u001b[0myear_name\u001b[0m\u001b[0;34m[\u001b[0m\u001b[0;36m0\u001b[0m\u001b[0;34m]\u001b[0m \u001b[0;34m=\u001b[0m \u001b[0;36m1990\u001b[0m \u001b[0;31m# this doesn't\u001b[0m\u001b[0;34m\u001b[0m\u001b[0;34m\u001b[0m\u001b[0m\n\u001b[0m",
      "\u001b[0;31mTypeError\u001b[0m: 'tuple' object does not support item assignment"
     ]
    }
   ],
   "source": [
    "year_name[0] = 1990 # this doesn't"
   ]
  },
  {
   "cell_type": "markdown",
   "metadata": {},
   "source": [
    "### lists\n",
    "Lists in turn can be changed but are slower. To create a list indicate it's initialization using square brackets `list = [val1, val2, etc]` Indexing works the same as for tuples using square brackets as well."
   ]
  },
  {
   "cell_type": "code",
   "execution_count": 19,
   "metadata": {},
   "outputs": [
    {
     "name": "stdout",
     "output_type": "stream",
     "text": [
      "[4, 2]\n",
      "4\n"
     ]
    }
   ],
   "source": [
    "a= [4, 2]\n",
    "print(a)\n",
    "\n",
    "print(a[0])"
   ]
  },
  {
   "cell_type": "code",
   "execution_count": 20,
   "metadata": {},
   "outputs": [
    {
     "name": "stdout",
     "output_type": "stream",
     "text": [
      "[1990, 'Tommy']\n"
     ]
    }
   ],
   "source": [
    "year_name = [1990, \"Tommy\"]\n",
    "print(year_name)"
   ]
  },
  {
   "cell_type": "code",
   "execution_count": 21,
   "metadata": {},
   "outputs": [
    {
     "data": {
      "text/plain": [
       "1991"
      ]
     },
     "execution_count": 21,
     "metadata": {},
     "output_type": "execute_result"
    }
   ],
   "source": [
    "year_name[0] + 1"
   ]
  },
  {
   "cell_type": "markdown",
   "metadata": {},
   "source": [
    "As already mentioned, list values can be re-assigned"
   ]
  },
  {
   "cell_type": "code",
   "execution_count": 22,
   "metadata": {},
   "outputs": [],
   "source": [
    "year_name[0] = 1990"
   ]
  },
  {
   "cell_type": "code",
   "execution_count": 23,
   "metadata": {},
   "outputs": [
    {
     "name": "stdout",
     "output_type": "stream",
     "text": [
      "[1990, 'Tommy', 1993, 'Francy']\n"
     ]
    }
   ],
   "source": [
    "year_name.append(1993)\n",
    "year_name.append(\"Francy\")\n",
    "print(year_name)"
   ]
  },
  {
   "cell_type": "code",
   "execution_count": 24,
   "metadata": {},
   "outputs": [
    {
     "name": "stdout",
     "output_type": "stream",
     "text": [
      "[4, 2]\n"
     ]
    }
   ],
   "source": [
    "year_name = [1990, \"Tommy\"]\n",
    "year_name.extend([1993, \"Francy\"])\n",
    "print(a)"
   ]
  },
  {
   "cell_type": "markdown",
   "metadata": {},
   "source": [
    "### No matrices in Python\n",
    "\n",
    "You might wonder how Python handles matrices. In fact there is no such a thing like a matrix that can be handled by a computer. Since computers always handle input serially, a matrix is nothing more than a rearranged list. In fact MatLab displays matrices, but internally uses the same logic as Python does, namely using a list of lists."
   ]
  },
  {
   "cell_type": "code",
   "execution_count": 25,
   "metadata": {},
   "outputs": [
    {
     "name": "stdout",
     "output_type": "stream",
     "text": [
      "[[1, 2, 3], [4, 5, 6], [7, 8, 9]]\n",
      "[1, 2, 3]\n",
      "2\n"
     ]
    }
   ],
   "source": [
    "column1 = [1, 2, 3]\n",
    "column2 = [4, 5, 6]\n",
    "column3 = [7, 8, 9]\n",
    "\n",
    "my_matrix = [column1, column2, column3]\n",
    "\n",
    "print(my_matrix)\n",
    "\n",
    "print(my_matrix[0])\n",
    "print(my_matrix[0][1])\n",
    "\n",
    "# print(my_matrix[:,1]) # this does not work"
   ]
  },
  {
   "cell_type": "markdown",
   "metadata": {},
   "source": [
    "Since scientists often use matrices to represent data, there is a workaround to handled this. A package called `numpy` wraps this behavior efficiently. That's why numpy became one of the most commonly used packages. In numpy a matrix is represented as `array` Since numpy is not part of the core libraries in Python it has to be installed before being able to import it. Importing packages will be discussed later, but for the sake of demonstrating arrays here is a short spoiler."
   ]
  },
  {
   "cell_type": "code",
   "execution_count": 26,
   "metadata": {},
   "outputs": [
    {
     "name": "stdout",
     "output_type": "stream",
     "text": [
      "[[1 2 3]\n",
      " [4 5 6]\n",
      " [7 8 9]]\n",
      "[1 2 3]\n",
      "2\n"
     ]
    }
   ],
   "source": [
    "import numpy as np # convention that is used by almost everyone\n",
    "\n",
    "my_array = np.array(my_matrix) # convert list of lists from before into a numpy array\n",
    "\n",
    "print(my_array)\n",
    "\n",
    "print(my_array[0])\n",
    "print(my_array[0][1])"
   ]
  },
  {
   "cell_type": "code",
   "execution_count": 27,
   "metadata": {},
   "outputs": [
    {
     "name": "stdout",
     "output_type": "stream",
     "text": [
      "[2 5 8]\n"
     ]
    }
   ],
   "source": [
    "print(my_array[:,1]) # now matrices can be sliced in the same way as in MatLab"
   ]
  },
  {
   "cell_type": "code",
   "execution_count": 28,
   "metadata": {},
   "outputs": [
    {
     "name": "stdout",
     "output_type": "stream",
     "text": [
      "[[1 2 3]\n",
      " [4 5 6]]\n"
     ]
    }
   ],
   "source": [
    "print(my_array[range(0,2),:]) # or even"
   ]
  },
  {
   "cell_type": "markdown",
   "metadata": {},
   "source": [
    "### dictionaries\n",
    "\n",
    "Those are objects that can hold Key - Value pairs. Which means once created a string is chosen as a Key and paired with a Value. Dictionaries can be created using curly brackets \\{ \\} Key and Value have to be separated by a colon."
   ]
  },
  {
   "cell_type": "code",
   "execution_count": 29,
   "metadata": {},
   "outputs": [],
   "source": [
    "my_dict = {\"Key\":\"Value\", \"Tommy\":1990, \"Francy\":1993}"
   ]
  },
  {
   "cell_type": "markdown",
   "metadata": {},
   "source": [
    "To access a certain value use square brackets and the respective Key as an \"index\", which will return the corresponding value. Further it is possible to return all keys or key-value pairs, which can become handy when iterating over a dictionary. In general dictionaries (unsorted) are faster than lists (sorted), because items are accessed via a key and not via the respective item position."
   ]
  },
  {
   "cell_type": "code",
   "execution_count": 30,
   "metadata": {},
   "outputs": [
    {
     "name": "stdout",
     "output_type": "stream",
     "text": [
      "Value\n",
      "1993\n",
      "dict_keys(['Key', 'Tommy', 'Francy'])\n",
      "dict_items([('Key', 'Value'), ('Tommy', 1990), ('Francy', 1993)])\n"
     ]
    }
   ],
   "source": [
    "# return values\n",
    "print(my_dict[\"Key\"])\n",
    "print(my_dict[\"Francy\"])\n",
    "\n",
    "# return all possible keys\n",
    "print(my_dict.keys())\n",
    "\n",
    "# return all Key-Value pairs\n",
    "print(my_dict.items())"
   ]
  },
  {
   "cell_type": "markdown",
   "metadata": {},
   "source": [
    "## basic statements\n",
    "Any kind of higher order statement such as `if` or `for` need a `:` and a tabular indent like so:"
   ]
  },
  {
   "cell_type": "markdown",
   "metadata": {},
   "source": [
    "### for loop"
   ]
  },
  {
   "cell_type": "code",
   "execution_count": 31,
   "metadata": {},
   "outputs": [
    {
     "name": "stdout",
     "output_type": "stream",
     "text": [
      "4\n",
      "2\n",
      "2\n"
     ]
    }
   ],
   "source": [
    "for digit in (4, 2): # finishing line by colon\n",
    "    print(digit) # indenting to indicate enclosing functionality\n",
    "\n",
    "print(digit) # if no indent was used"
   ]
  },
  {
   "cell_type": "markdown",
   "metadata": {},
   "source": [
    "### if statement"
   ]
  },
  {
   "cell_type": "code",
   "execution_count": 32,
   "metadata": {},
   "outputs": [
    {
     "name": "stdout",
     "output_type": "stream",
     "text": [
      "True\n",
      "False\n",
      "True\n",
      "list 1 is list 3\n"
     ]
    }
   ],
   "source": [
    "list1 = [] \n",
    "list2 = [] \n",
    "list3 = list1 \n",
    "  \n",
    "if list1 == list2: # list 1 equals (is contains the same as) list 2\n",
    "    print(\"True\") \n",
    "else: \n",
    "    print(\"False\") \n",
    "    \n",
    "if list1 is list2: # list 1 IS NOT the very same object as list 2 at the same memory location\n",
    "    print(\"True\") \n",
    "else: \n",
    "    print(\"False\") \n",
    "    \n",
    "if list1 is list3: # list 1 IS the very same object as list 3 at the same memory location\n",
    "    print(\"True\") \n",
    "else:     \n",
    "    print(\"False\")\n",
    "    \n",
    "if list1 is list2:\n",
    "    print(\"list 1 is list 2\")\n",
    "elif list2 is list3: # else if statement\n",
    "    print(\"list 2 is list 3\")\n",
    "else:\n",
    "    print(\"list 1 is list 3\")"
   ]
  },
  {
   "cell_type": "markdown",
   "metadata": {},
   "source": [
    "### while statement"
   ]
  },
  {
   "cell_type": "code",
   "execution_count": 33,
   "metadata": {},
   "outputs": [
    {
     "name": "stdout",
     "output_type": "stream",
     "text": [
      "9\n",
      "8\n",
      "7\n",
      "6\n",
      "5\n",
      "4\n",
      "3\n",
      "2\n",
      "1\n",
      "0\n"
     ]
    }
   ],
   "source": [
    "counter = 10\n",
    "while counter > 0:\n",
    "    counter -= 1\n",
    "    print(counter)"
   ]
  },
  {
   "cell_type": "markdown",
   "metadata": {},
   "source": [
    "### continue, pass, break"
   ]
  },
  {
   "cell_type": "code",
   "execution_count": 34,
   "metadata": {},
   "outputs": [
    {
     "name": "stdout",
     "output_type": "stream",
     "text": [
      "0\n",
      "1\n",
      "2\n",
      "4\n",
      "5\n",
      "6\n",
      "7\n"
     ]
    }
   ],
   "source": [
    "for number in range(0, 10):\n",
    "    \n",
    "    if number == 3: # skips this loop iteration\n",
    "        continue\n",
    "        \n",
    "    elif number == 5: # just goes on\n",
    "        pass\n",
    "    \n",
    "    elif number == 8: # exits loop\n",
    "        break\n",
    "    \n",
    "    print(number)"
   ]
  },
  {
   "cell_type": "markdown",
   "metadata": {},
   "source": [
    "### with statement (reading files)\n",
    "\n",
    "This statement is easy to understand, when considering opening a file. As you will know from MatLab, opening a file involves assigning a fileID, opening the file, doing something and afterwards closing it. Now the closing part is necessary to no longer hold the respective file in memory. However if something happens and an error occurs, the file might not be closed properly.\n",
    "\n",
    "The with statement solves this problem by internally wrapping a `try` and `finally` statement. That is 'trying' something and even if something happens executing a 'final' statement (e.g. closing the file).\n",
    "\n",
    "So `with` is thus mostly used for opening files."
   ]
  },
  {
   "cell_type": "code",
   "execution_count": 35,
   "metadata": {},
   "outputs": [
    {
     "ename": "FileNotFoundError",
     "evalue": "[Errno 2] No such file or directory: 'my_file.ext'",
     "output_type": "error",
     "traceback": [
      "\u001b[0;31m---------------------------------------------------------------------------\u001b[0m",
      "\u001b[0;31mFileNotFoundError\u001b[0m                         Traceback (most recent call last)",
      "\u001b[0;32m<ipython-input-35-1492469eff26>\u001b[0m in \u001b[0;36m<module>\u001b[0;34m\u001b[0m\n\u001b[1;32m      1\u001b[0m \u001b[0;31m# crashes due to missing file\u001b[0m\u001b[0;34m\u001b[0m\u001b[0;34m\u001b[0m\u001b[0;34m\u001b[0m\u001b[0m\n\u001b[0;32m----> 2\u001b[0;31m \u001b[0;32mwith\u001b[0m \u001b[0mopen\u001b[0m\u001b[0;34m(\u001b[0m\u001b[0;34m\"my_file.ext\"\u001b[0m\u001b[0;34m,\u001b[0m \u001b[0;34m\"r\"\u001b[0m\u001b[0;34m)\u001b[0m \u001b[0;32mas\u001b[0m \u001b[0mmy_data\u001b[0m\u001b[0;34m:\u001b[0m \u001b[0;31m# opens file for reading (\"r\") as the variable \"my_data\"\u001b[0m\u001b[0;34m\u001b[0m\u001b[0;34m\u001b[0m\u001b[0m\n\u001b[0m\u001b[1;32m      3\u001b[0m     \u001b[0mdata\u001b[0m \u001b[0;34m=\u001b[0m \u001b[0mmy_data\u001b[0m\u001b[0;34m.\u001b[0m\u001b[0mread\u001b[0m\u001b[0;34m(\u001b[0m\u001b[0;34m)\u001b[0m \u001b[0;31m# reads the actual file data into a new variable\u001b[0m\u001b[0;34m\u001b[0m\u001b[0;34m\u001b[0m\u001b[0m\n",
      "\u001b[0;31mFileNotFoundError\u001b[0m: [Errno 2] No such file or directory: 'my_file.ext'"
     ]
    }
   ],
   "source": [
    "# crashes due to missing file\n",
    "with open(\"my_file.ext\", \"r\") as my_data: # opens file for reading (\"r\") as the variable \"my_data\"\n",
    "    data = my_data.read() # reads the actual file data into a new variable"
   ]
  },
  {
   "cell_type": "markdown",
   "metadata": {},
   "source": [
    "## really handy\n",
    "\n",
    "In general it's good to know that in Python you can loop over multiple variables at the same time. Below you'll find some examples why this can be useful.\n",
    "\n",
    "### enumerate\n",
    "\n",
    "This function returns the respective value of an assembly of data and it's index. Thus using enumerate you could e.g. get rid of counter variables."
   ]
  },
  {
   "cell_type": "code",
   "execution_count": 36,
   "metadata": {},
   "outputs": [
    {
     "name": "stdout",
     "output_type": "stream",
     "text": [
      "30 is the 0 entry in the list\n",
      "31 is the 1 entry in the list\n",
      "32 is the 2 entry in the list\n",
      "33 is the 3 entry in the list\n",
      "34 is the 4 entry in the list\n",
      "35 is the 5 entry in the list\n",
      "36 is the 6 entry in the list\n",
      "37 is the 7 entry in the list\n",
      "38 is the 8 entry in the list\n",
      "39 is the 9 entry in the list\n"
     ]
    }
   ],
   "source": [
    "my_list = range(30, 40)\n",
    "for entry, number in enumerate(my_list):\n",
    "    print(str(number) + \" is the \" + str(entry) + \" entry in the list\")"
   ]
  },
  {
   "cell_type": "markdown",
   "metadata": {},
   "source": [
    "### zip\n",
    "\n",
    "This function creates an iterable object, that makes multiple data assemblies accessible. E.g. if you have two (or more) vectors of data, the MatLab way of doing it would be to iterate through the number of indices and then accessing each vector by the respective index. Using `zip` you can \"concatenate\" those and access the same \"row\" of each vector at the same time."
   ]
  },
  {
   "cell_type": "code",
   "execution_count": 37,
   "metadata": {},
   "outputs": [
    {
     "name": "stdout",
     "output_type": "stream",
     "text": [
      "30 is the 0 entry in the list\n",
      "32 is the 1 entry in the list\n",
      "34 is the 2 entry in the list\n",
      "36 is the 3 entry in the list\n",
      "38 is the 4 entry in the list\n"
     ]
    }
   ],
   "source": [
    "numbers = range(30, 40, 2)\n",
    "entries = range(0, len(numbers))\n",
    "\n",
    "for entry, number in zip(entries, numbers):\n",
    "    print(str(number) + \" is the \" + str(entry) + \" entry in the list\")"
   ]
  },
  {
   "cell_type": "markdown",
   "metadata": {},
   "source": [
    "### one line loop\n",
    "\n",
    "While in MatLab data has to be collected in a separate variable, Python offers to collect the output of a for-loop directly as a list. In the example below each item within the range shall be squared and put in a new variable."
   ]
  },
  {
   "cell_type": "code",
   "execution_count": 38,
   "metadata": {},
   "outputs": [
    {
     "name": "stdout",
     "output_type": "stream",
     "text": [
      "[0, 1, 4, 9, 16, 25, 36, 49, 64, 81]\n"
     ]
    }
   ],
   "source": [
    "numbers = range(0, 10)\n",
    "\n",
    "squared_numbers = [number**2 for number in numbers]\n",
    "print(squared_numbers)    "
   ]
  },
  {
   "cell_type": "markdown",
   "metadata": {},
   "source": [
    "### one line if\n",
    "\n",
    "The one-line for-loop functionality can further be extended by including an if statement. Here only even numbers are squared, by adding an if statement, checking whether the modulo value equals zero."
   ]
  },
  {
   "cell_type": "code",
   "execution_count": 39,
   "metadata": {},
   "outputs": [
    {
     "name": "stdout",
     "output_type": "stream",
     "text": [
      "[0, 4, 16, 36, 64]\n",
      "['problem solved', 'problem still remains']\n"
     ]
    }
   ],
   "source": [
    "numbers = range(0, 10)\n",
    "\n",
    "squared_even_numbers = [number**2 for number in numbers if number % 2 == 0]\n",
    "print(squared_even_numbers)\n",
    "\n",
    "print([\"problem solved\" if number == 42 else \"problem still remains\" for number in (42, 13)])"
   ]
  },
  {
   "cell_type": "markdown",
   "metadata": {},
   "source": [
    "# Packages\n",
    "\n",
    "One of the ore features of Python is the use of packages or `modules`. Those are collections of functions that can be accessed after importing them. Importing in this context means telling Python to make use of those pre-installed functions and putting them into the respective name space. \n",
    "\n",
    "## installing packages\n",
    "\n",
    "The easiest way to install packages is to use `pip`. Which works like so\n",
    "\n",
    "`pip install <package_name>`\n",
    "\n",
    "e.g.\n",
    "\n",
    "`pip install numpy`\n",
    "\n",
    "Sometimes a package is not contained within the package-management and must be installed manually. In that case it's important to link the respective package, so that you Python interpreter can find it."
   ]
  },
  {
   "cell_type": "markdown",
   "metadata": {},
   "source": [
    "## Importing packages\n",
    "\n",
    "While it is possible to import all functions of a package like so `from my_package import *` which would give you direct access to all the functions, it is not advised to do so. It is much better practice to import packages and refer to functions from this package from the packages name space.\n",
    "\n",
    "E.g. it would be possible to `from math import *` and then use `sqrt(number)` it would be much better practice to `import math` and use `math.sqrt(number)` or even `from math import sqrt` and use `sqrt(number)`. \n",
    "\n",
    "When using the asterisk all functions will be imported which can mess up you name space. Additionally you can keep much better track about what function you use when explicitly importing them.\n",
    "\n",
    "Another handy feature is that the name space of a given set of functions can be modified. E.g. it is common practice to rename `numpy` to `np` (like below). This will ensure that all package specific functions are still in the name space of the package, but a shorter name can be chosen for convenance.\n",
    "\n",
    "Every sub-function of one module can be used using the `.` operator. Large packages often use also sub-modules, so multiple `.` operators can be required. However it is also possible to import a sub-module only."
   ]
  },
  {
   "cell_type": "code",
   "execution_count": 40,
   "metadata": {},
   "outputs": [],
   "source": [
    "import numpy as np # change namespace\n",
    "from matplotlib import pyplot as plt # import only sub-module"
   ]
  },
  {
   "cell_type": "code",
   "execution_count": 41,
   "metadata": {},
   "outputs": [],
   "source": [
    "random_data = np.random.rand(250, 32) # access function of sub-module"
   ]
  },
  {
   "cell_type": "code",
   "execution_count": 42,
   "metadata": {},
   "outputs": [
    {
     "data": {
      "image/png": "[encoded data removed]",
      "text/plain": [
       "<Figure size 432x288 with 1 Axes>"
      ]
     },
     "metadata": {
      "needs_background": "light"
     },
     "output_type": "display_data"
    }
   ],
   "source": [
    "channel = 0\n",
    "\n",
    "plt.figure\n",
    "plt.plot(random_data[:,channel])\n",
    "plt.show()"
   ]
  },
  {
   "cell_type": "markdown",
   "metadata": {},
   "source": [
    "# Functions\n",
    "\n",
    "Functions are a set of executable operations, that can (but don't have to) take input variables and can (but don't have to) return one or multiple values."
   ]
  },
  {
   "cell_type": "code",
   "execution_count": 43,
   "metadata": {},
   "outputs": [
    {
     "name": "stdout",
     "output_type": "stream",
     "text": [
      "None\n",
      "42\n",
      "42 2\n"
     ]
    }
   ],
   "source": [
    "# function without return statement\n",
    "def sub_numbers(val_one, val_two):\n",
    "    sum_of_values = val_one + val_two\n",
    "\n",
    "my_sum = sub_numbers(22, 20)\n",
    "print(my_sum)\n",
    "\n",
    "# function with return statement\n",
    "def add_numbers(val_one, val_two):\n",
    "    sum_of_values = val_one + val_two\n",
    "    return sum_of_values\n",
    "\n",
    "my_sum = add_numbers(22, 20)\n",
    "print(my_sum)\n",
    "\n",
    "# function with multiple return values\n",
    "def add_and_sub_numbers(val_one, val_two):\n",
    "    sum_of_values = val_one + val_two\n",
    "    diff_of_values = val_one - val_two\n",
    "    return sum_of_values, diff_of_values\n",
    "\n",
    "my_sum, my_diff = add_and_sub_numbers(22, 20)\n",
    "print(my_sum, my_diff)"
   ]
  },
  {
   "cell_type": "markdown",
   "metadata": {},
   "source": [
    "# Classes\n",
    "\n",
    "Python not only encompasses functional aspects but also object oriented.\n",
    "\n",
    "A simple example would be a String. In general a String would be an object to hold alpha-numeric data. It is possible to assign a certain value to a String (i.e. the characters to be hold), return those values, return only certain parts, etc.\n",
    "\n",
    "While MatLab does not allow the creation of user defined objects, Python does by using `class`es to create objects.\n",
    "\n",
    "A class can be seen as a definition of objects that not only are able to perform computations (like a function), but also to store data. The general principle thereby is, to indicate what would happen if an instance of this pre-defined class of objects is created and what this instance can do.\n",
    "\n",
    "This is referred to as having `attributes` (to store data) and `methods` (i.e. functions). An attribute is a variable that belongs to the object (same as your eye-color is an attribute of yours), whereas methods are functions that the object can perform (like breathing).\n",
    "\n",
    "When defining a new class all attributes that are defined right after the class definition will be attributes of the class. Those can than be accessed using `my_class.my_attribute` Within the class itself you would access the very same attribute using `self.my_attribute` \n",
    "\n",
    "Not only can the class hold attributes but also methods, which follow the same logic as attributes, but are technically functions, not data. To call functions you would thus need to add parentheses to the call `my_class.my_function()`.\n",
    "\n",
    "`__init__()` thereby is the method that is executed when first creating an instance of the class. All methods and attributes will be accessible from this instance."
   ]
  },
  {
   "cell_type": "code",
   "execution_count": 44,
   "metadata": {},
   "outputs": [],
   "source": [
    "class pet:\n",
    "    pet_type = None # attributes of every instance\n",
    "    pet_name = None\n",
    "    \n",
    "    def __init__(self, pet_type, pet_name): # called when creating an instance\n",
    "        self.pet_type = pet_type\n",
    "        self.pet_name = pet_name\n",
    "        \n",
    "    def get_name(self): # methods of every instance\n",
    "        return self.pet_name\n",
    "    \n",
    "    def get_type(self):\n",
    "        return self.pet_type"
   ]
  },
  {
   "cell_type": "code",
   "execution_count": 45,
   "metadata": {},
   "outputs": [
    {
     "name": "stdout",
     "output_type": "stream",
     "text": [
      "My pet's name is Fiffy\n",
      "It's a dog\n"
     ]
    }
   ],
   "source": [
    "# create instance of the pet class\n",
    "new_pet = pet('dog', 'Fiffy') # internally __init__() is called\n",
    "\n",
    "print(\"My pet's name is \" + new_pet.get_name()) # the instance has the methods that we defined in the class definition\n",
    "print(\"It's a \" + new_pet.get_type())"
   ]
  },
  {
   "cell_type": "markdown",
   "metadata": {},
   "source": [
    "Furthermore it is possible to define a class not from scratch, but instead \"inheriting\" attributes and methods from other classes.\n",
    "\n",
    "E.g. If we would like to create a new \"dog\" class that has all the features the \"pet\" class had, we initialize the class definition by setting the base class to pet. This way all instances of \"dog\" will have the same attributes and methods as instances of \"pet\", but on top we can define more attributes that \"dog\"s have but not \"pet\"s."
   ]
  },
  {
   "cell_type": "code",
   "execution_count": 46,
   "metadata": {},
   "outputs": [],
   "source": [
    "class dog(pet):\n",
    "    pet_tricks = [] # additional attribute hold only by the dog (sub-) class\n",
    "    \n",
    "    def __init__(self, pet_name):\n",
    "        self.pet_name = pet_name\n",
    "        self.pet_type = 'dog'\n",
    "        \n",
    "    def add_trick(self, trick): # additional methods hold only by the dog (sub-) class\n",
    "        self.pet_tricks.append(trick)\n",
    "        \n",
    "    def get_tricks(self):\n",
    "        return self.pet_tricks\n",
    "        \n",
    "class cat(pet):\n",
    "    pet_toys = [] # additional attribute hold only by the cat (sub-) class\n",
    "    \n",
    "    def __init__(self, pet_name):\n",
    "        self.pet_name = pet_name\n",
    "        self.pet_type = 'cat'\n",
    "        \n",
    "    def add_favorite_toy(self, toy): # additional methods hold only by the cat (sub-) class\n",
    "        self.pet_toys.append(toy)\n",
    "    \n",
    "    def get_toys(self):\n",
    "        return self.pet_toys"
   ]
  },
  {
   "cell_type": "markdown",
   "metadata": {},
   "source": [
    "Below you can see that the \"dog\" class can make use of the methods that were initially defined only in the \"pet\" class"
   ]
  },
  {
   "cell_type": "code",
   "execution_count": 47,
   "metadata": {},
   "outputs": [
    {
     "name": "stdout",
     "output_type": "stream",
     "text": [
      "My pet's name is Fiffy\n",
      "It's a dog\n"
     ]
    }
   ],
   "source": [
    "new_dog = dog('Fiffy') # calls the dog classes __init__()\n",
    "\n",
    "print(\"My pet's name is \" + new_dog.get_name())\n",
    "print(\"It's a \" + new_dog.get_type())\n"
   ]
  },
  {
   "cell_type": "markdown",
   "metadata": {},
   "source": [
    "Furthermore we have now as well access to the dog classes unique methods "
   ]
  },
  {
   "cell_type": "code",
   "execution_count": 48,
   "metadata": {},
   "outputs": [
    {
     "name": "stdout",
     "output_type": "stream",
     "text": [
      "My dog Fiffy can perform the following tricks: sit and bark\n"
     ]
    }
   ],
   "source": [
    "new_dog.add_trick('sit')\n",
    "new_dog.add_trick('bark')\n",
    "print(\"My dog \" + new_dog.get_name() + \" can perform the following tricks: \" + \" and \".join(new_dog.get_tricks()))\n"
   ]
  },
  {
   "cell_type": "markdown",
   "metadata": {},
   "source": [
    "In general it is good practice to create methods that allow the retrieval of attribute values. However it is also possible to access attribute values directly."
   ]
  },
  {
   "cell_type": "code",
   "execution_count": 49,
   "metadata": {},
   "outputs": [
    {
     "name": "stdout",
     "output_type": "stream",
     "text": [
      "My dog's name is Fiffy\n",
      "My cat's name is Mimi\n"
     ]
    }
   ],
   "source": [
    "dogs_name = new_dog.get_name()\n",
    "print(\"My dog's name is \" + dogs_name)\n",
    "\n",
    "cats_name = cat('Mimi').pet_name\n",
    "print(\"My cat's name is \" + cats_name)"
   ]
  },
  {
   "cell_type": "markdown",
   "metadata": {},
   "source": [
    "# Stuff you probably wanna use daily"
   ]
  },
  {
   "cell_type": "markdown",
   "metadata": {},
   "source": [
    "## sets of values"
   ]
  },
  {
   "cell_type": "code",
   "execution_count": 50,
   "metadata": {},
   "outputs": [
    {
     "name": "stdout",
     "output_type": "stream",
     "text": [
      "[0, 1, 2, 3, 4, 5, 6, 7, 8, 9]\n",
      "[0, 2, 4, 6, 8]\n"
     ]
    }
   ],
   "source": [
    "# create a range of values\n",
    "print(list(range(0, 10))) # 10 values starting from 0\n",
    "print(list(range(0, 10, 2))) # 10 values starting from zero, but only every other"
   ]
  },
  {
   "cell_type": "markdown",
   "metadata": {},
   "source": [
    "## indexing"
   ]
  },
  {
   "cell_type": "code",
   "execution_count": 51,
   "metadata": {},
   "outputs": [
    {
     "name": "stdout",
     "output_type": "stream",
     "text": [
      "[[0.37454012 0.95071431 0.73199394 0.59865848 0.15601864]\n",
      " [0.15599452 0.05808361 0.86617615 0.60111501 0.70807258]\n",
      " [0.02058449 0.96990985 0.83244264 0.21233911 0.18182497]\n",
      " [0.18340451 0.30424224 0.52475643 0.43194502 0.29122914]\n",
      " [0.61185289 0.13949386 0.29214465 0.36636184 0.45606998]]\n"
     ]
    }
   ],
   "source": [
    "import numpy as np\n",
    "np.random.seed(42) # fix random seed\n",
    "my_array = np.random.rand(5,5)\n",
    "\n",
    "print(my_array) # full array"
   ]
  },
  {
   "cell_type": "code",
   "execution_count": 52,
   "metadata": {},
   "outputs": [
    {
     "name": "stdout",
     "output_type": "stream",
     "text": [
      "0.3745401188473625\n"
     ]
    }
   ],
   "source": [
    "print(my_array[0,0]) # first value"
   ]
  },
  {
   "cell_type": "code",
   "execution_count": 53,
   "metadata": {},
   "outputs": [
    {
     "name": "stdout",
     "output_type": "stream",
     "text": [
      "[0.15599452 0.05808361 0.86617615 0.60111501 0.70807258]\n"
     ]
    }
   ],
   "source": [
    "print(my_array[1,:]) # second row"
   ]
  },
  {
   "cell_type": "code",
   "execution_count": 54,
   "metadata": {},
   "outputs": [
    {
     "name": "stdout",
     "output_type": "stream",
     "text": [
      "[[0.73199394 0.15601864]\n",
      " [0.86617615 0.70807258]\n",
      " [0.83244264 0.18182497]\n",
      " [0.52475643 0.29122914]\n",
      " [0.29214465 0.45606998]]\n"
     ]
    }
   ],
   "source": [
    "print(my_array[:,[2,4]]) # column 3 and 5"
   ]
  },
  {
   "cell_type": "code",
   "execution_count": 55,
   "metadata": {},
   "outputs": [
    {
     "name": "stdout",
     "output_type": "stream",
     "text": [
      "[[0.37454012 0.95071431 0.73199394 0.15601864]\n",
      " [0.15599452 0.05808361 0.86617615 0.70807258]\n",
      " [0.02058449 0.96990985 0.83244264 0.18182497]\n",
      " [0.18340451 0.30424224 0.52475643 0.29122914]\n",
      " [0.61185289 0.13949386 0.29214465 0.45606998]]\n"
     ]
    }
   ],
   "source": [
    "index_var = list(range(0,3))\n",
    "index_var.append(4)\n",
    "print(my_array[:,index_var]) # columns 1 to 3 and 5"
   ]
  },
  {
   "cell_type": "code",
   "execution_count": 56,
   "metadata": {},
   "outputs": [
    {
     "name": "stdout",
     "output_type": "stream",
     "text": [
      "[[0.37454012 0.73199394 0.15601864]\n",
      " [0.15599452 0.86617615 0.70807258]\n",
      " [0.02058449 0.83244264 0.18182497]\n",
      " [0.18340451 0.52475643 0.29122914]\n",
      " [0.61185289 0.29214465 0.45606998]]\n"
     ]
    }
   ],
   "source": [
    "from_item = 0\n",
    "to_item = 5\n",
    "in_steps_of = 2\n",
    "print(my_array[:,from_item:to_item:in_steps_of]) # odd numbered columns"
   ]
  },
  {
   "cell_type": "code",
   "execution_count": 57,
   "metadata": {},
   "outputs": [
    {
     "name": "stdout",
     "output_type": "stream",
     "text": [
      "[[0.37454012 0.59865848]\n",
      " [0.15599452 0.60111501]\n",
      " [0.02058449 0.21233911]\n",
      " [0.18340451 0.43194502]\n",
      " [0.61185289 0.36636184]]\n"
     ]
    }
   ],
   "source": [
    "in_steps_of = 3\n",
    "print(my_array[:,::in_steps_of]) # first to last in steps of 3 (1st and 4th column)"
   ]
  },
  {
   "cell_type": "code",
   "execution_count": 58,
   "metadata": {},
   "outputs": [
    {
     "name": "stdout",
     "output_type": "stream",
     "text": [
      "[[0.73199394 0.59865848 0.15601864]\n",
      " [0.86617615 0.60111501 0.70807258]\n",
      " [0.83244264 0.21233911 0.18182497]\n",
      " [0.52475643 0.43194502 0.29122914]\n",
      " [0.29214465 0.36636184 0.45606998]]\n"
     ]
    }
   ],
   "source": [
    "print(my_array[:,2::]) # 3rd to last column"
   ]
  },
  {
   "cell_type": "code",
   "execution_count": 59,
   "metadata": {},
   "outputs": [
    {
     "name": "stdout",
     "output_type": "stream",
     "text": [
      "[0.15601864 0.70807258 0.18182497 0.29122914 0.45606998]\n"
     ]
    }
   ],
   "source": [
    "print(my_array[:,-1]) # only last column"
   ]
  },
  {
   "cell_type": "code",
   "execution_count": 60,
   "metadata": {},
   "outputs": [
    {
     "name": "stdout",
     "output_type": "stream",
     "text": [
      "[[0.15601864 0.59865848 0.73199394 0.95071431 0.37454012]\n",
      " [0.70807258 0.60111501 0.86617615 0.05808361 0.15599452]\n",
      " [0.18182497 0.21233911 0.83244264 0.96990985 0.02058449]\n",
      " [0.29122914 0.43194502 0.52475643 0.30424224 0.18340451]\n",
      " [0.45606998 0.36636184 0.29214465 0.13949386 0.61185289]]\n"
     ]
    }
   ],
   "source": [
    "print(my_array[:,::-1]) # flip column order"
   ]
  },
  {
   "cell_type": "code",
   "execution_count": 61,
   "metadata": {},
   "outputs": [
    {
     "name": "stdout",
     "output_type": "stream",
     "text": [
      "[[ True False  True  True False]\n",
      " [ True False False  True  True]\n",
      " [ True False False  True False]\n",
      " [False False False  True False]\n",
      " [ True False  True  True False]]\n"
     ]
    }
   ],
   "source": [
    "my_array = np.random.rand(5,5) * 2 -1\n",
    "only_positive_indices = my_array > 0 # logical indexing\n",
    "print(only_positive_indices)"
   ]
  },
  {
   "cell_type": "code",
   "execution_count": 62,
   "metadata": {},
   "outputs": [
    {
     "name": "stdout",
     "output_type": "stream",
     "text": [
      "[0 0 1 1 2 2 2 3 3 3 3 4 4]\n",
      "[1 4 1 2 1 2 4 0 1 2 4 1 4]\n"
     ]
    }
   ],
   "source": [
    "# equivalent to MatLab's 'find'\n",
    "columnIDs, rowIDs = np.where(only_positive_indices != True) # find numeric indices of 'False'\n",
    "\n",
    "print(columnIDs)\n",
    "print(rowIDs)"
   ]
  },
  {
   "cell_type": "markdown",
   "metadata": {},
   "source": [
    "## matrix (array) operations"
   ]
  },
  {
   "cell_type": "code",
   "execution_count": 63,
   "metadata": {},
   "outputs": [
    {
     "name": "stdout",
     "output_type": "stream",
     "text": [
      "(5, 5)\n"
     ]
    }
   ],
   "source": [
    "print(my_array.shape) #obtain shape"
   ]
  },
  {
   "cell_type": "code",
   "execution_count": 64,
   "metadata": {},
   "outputs": [
    {
     "name": "stdout",
     "output_type": "stream",
     "text": [
      "[[ 0.57035192  0.2150897   0.6167947  -0.75592353  0.32504457]\n",
      " [-0.60065244 -0.65895175 -0.39077246 -0.00964618 -0.37657785]\n",
      " [ 0.02846888 -0.86989681 -0.80465577 -0.93122296  0.04013604]\n",
      " [ 0.18482914  0.89777107  0.36846605  0.8186408   0.09342056]\n",
      " [-0.90709917  0.93126407 -0.11969501 -0.48244004 -0.63029109]]\n"
     ]
    }
   ],
   "source": [
    "print(my_array.T) # transpose (Python 3 notation)"
   ]
  },
  {
   "cell_type": "code",
   "execution_count": 65,
   "metadata": {},
   "outputs": [
    {
     "name": "stdout",
     "output_type": "stream",
     "text": [
      "[[ 0.57035192  0.2150897   0.6167947  -0.75592353  0.32504457]\n",
      " [-0.60065244 -0.65895175 -0.39077246 -0.00964618 -0.37657785]\n",
      " [ 0.02846888 -0.86989681 -0.80465577 -0.93122296  0.04013604]\n",
      " [ 0.18482914  0.89777107  0.36846605  0.8186408   0.09342056]\n",
      " [-0.90709917  0.93126407 -0.11969501 -0.48244004 -0.63029109]]\n"
     ]
    }
   ],
   "source": [
    "print(np.transpose(my_array)) # transpose using numpy"
   ]
  },
  {
   "cell_type": "code",
   "execution_count": 66,
   "metadata": {},
   "outputs": [
    {
     "name": "stdout",
     "output_type": "stream",
     "text": [
      "[[ 0.57035192 -0.60065244  0.02846888  0.18482914 -0.90709917  0.\n",
      "   0.          0.          0.          0.          0.          0.\n",
      "   0.          0.          0.        ]\n",
      " [ 0.2150897  -0.65895175 -0.86989681  0.89777107  0.93126407  0.\n",
      "   0.          0.          0.          0.          0.          0.\n",
      "   0.          0.          0.        ]\n",
      " [ 0.6167947  -0.39077246 -0.80465577  0.36846605 -0.11969501  0.\n",
      "   0.          0.          0.          0.          0.          0.\n",
      "   0.          0.          0.        ]\n",
      " [-0.75592353 -0.00964618 -0.93122296  0.8186408  -0.48244004  0.\n",
      "   0.          0.          0.          0.          0.          0.\n",
      "   0.          0.          0.        ]\n",
      " [ 0.32504457 -0.37657785  0.04013604  0.09342056 -0.63029109  0.\n",
      "   0.          0.          0.          0.          0.          0.\n",
      "   0.          0.          0.        ]]\n"
     ]
    }
   ],
   "source": [
    "my_new_array = np.zeros((5,10)) # shape is given as a first argument as a tuple\n",
    "my_concat_array = np.concatenate((my_array, my_new_array), axis=1) # concatenate two arrays along columns\n",
    "print(my_concat_array)"
   ]
  },
  {
   "cell_type": "code",
   "execution_count": 67,
   "metadata": {},
   "outputs": [
    {
     "name": "stdout",
     "output_type": "stream",
     "text": [
      "[[2. 0. 0. 0.]\n",
      " [0. 2. 0. 0.]\n",
      " [0. 0. 2. 0.]\n",
      " [0. 0. 0. 2.]]\n"
     ]
    }
   ],
   "source": [
    "scale_mat = np.eye(4) * 2\n",
    "print(np.ones((4,4)) * scale_mat) # element wise multiplication"
   ]
  },
  {
   "cell_type": "code",
   "execution_count": 68,
   "metadata": {},
   "outputs": [
    {
     "name": "stdout",
     "output_type": "stream",
     "text": [
      "[[2. 2. 2. 2.]\n",
      " [2. 2. 2. 2.]\n",
      " [2. 2. 2. 2.]\n",
      " [2. 2. 2. 2.]]\n"
     ]
    }
   ],
   "source": [
    "print(np.matmul(np.ones((4,4)), scale_mat)) # matrix multiplication"
   ]
  },
  {
   "cell_type": "code",
   "execution_count": 69,
   "metadata": {},
   "outputs": [
    {
     "name": "stdout",
     "output_type": "stream",
     "text": [
      "[[2. 2. 2. 2.]\n",
      " [2. 2. 2. 2.]\n",
      " [2. 2. 2. 2.]\n",
      " [2. 2. 2. 2.]]\n"
     ]
    }
   ],
   "source": [
    "print(np.ones((4,4)) @ scale_mat) # matrix multiplication (python 3.5+)"
   ]
  },
  {
   "cell_type": "code",
   "execution_count": null,
   "metadata": {},
   "outputs": [],
   "source": []
  }
 ],
 "metadata": {
  "kernelspec": {
   "display_name": "Python 3",
   "language": "python",
   "name": "python3"
  },
  "language_info": {
   "codemirror_mode": {
    "name": "ipython",
    "version": 3
   },
   "file_extension": ".py",
   "mimetype": "text/x-python",
   "name": "python",
   "nbconvert_exporter": "python",
   "pygments_lexer": "ipython3",
   "version": "3.7.3"
  }
 },
 "nbformat": 4,
 "nbformat_minor": 2
}
